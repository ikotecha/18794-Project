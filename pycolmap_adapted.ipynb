{
 "cells": [
  {
   "cell_type": "markdown",
   "id": "f6fbdb5c",
   "metadata": {
    "id": "f6fbdb5c"
   },
   "source": [
    "In this notebook, we will build a 3D map of a scene from a small set of images and then localize an image downloaded from the Internet. This demo was contributed by [Philipp Lindenberger](https://github.com/Phil26AT/)."
   ]
  },
  {
   "cell_type": "code",
   "execution_count": null,
   "id": "CeL5x1beYrtX",
   "metadata": {
    "colab": {
     "base_uri": "https://localhost:8080/"
    },
    "id": "CeL5x1beYrtX",
    "outputId": "93690e27-2077-425d-a215-7d1520dd22bc"
   },
   "outputs": [],
   "source": [
    "!pip install pycolmap==3.10.0\n",
    "!pip install kornia"
   ]
  },
  {
   "cell_type": "code",
   "execution_count": null,
   "id": "9t6PqwnomyGk",
   "metadata": {
    "colab": {
     "base_uri": "https://localhost:8080/"
    },
    "id": "9t6PqwnomyGk",
    "outputId": "93a82134-204b-45cf-d5f5-773910338ff4"
   },
   "outputs": [],
   "source": [
    "import os\n",
    "from pathlib import Path\n",
    "import pycolmap\n",
    "print(pycolmap.__version__)\n",
    "!pwd"
   ]
  },
  {
   "cell_type": "code",
   "execution_count": 28,
   "id": "UwcW1ludNght",
   "metadata": {
    "colab": {
     "base_uri": "https://localhost:8080/"
    },
    "id": "UwcW1ludNght",
    "outputId": "4867e685-7e67-4e6c-aeff-48f06c8fb012"
   },
   "outputs": [
    {
     "ename": "ModuleNotFoundError",
     "evalue": "No module named 'Project'",
     "output_type": "error",
     "traceback": [
      "\u001b[0;31m---------------------------------------------------------------------------\u001b[0m",
      "\u001b[0;31mModuleNotFoundError\u001b[0m                       Traceback (most recent call last)",
      "Cell \u001b[0;32mIn[28], line 4\u001b[0m\n\u001b[1;32m      1\u001b[0m \u001b[38;5;66;03m# For experiments in Colab (for gpu)\u001b[39;00m\n\u001b[1;32m      2\u001b[0m get_ipython()\u001b[38;5;241m.\u001b[39msystem(\u001b[38;5;124m'\u001b[39m\u001b[38;5;124mgit clone --quiet --recursive https://github.com/ikotecha/18794-Project\u001b[39m\u001b[38;5;124m'\u001b[39m)\n\u001b[0;32m----> 4\u001b[0m \u001b[38;5;28;01mfrom\u001b[39;00m \u001b[38;5;21;01mProject\u001b[39;00m\u001b[38;5;21;01m.\u001b[39;00m\u001b[38;5;21;01mDeepUWSFM\u001b[39;00m\u001b[38;5;21;01m.\u001b[39;00m\u001b[38;5;21;01mutils\u001b[39;00m \u001b[38;5;28;01mimport\u001b[39;00m viz, viz_3d\n\u001b[1;32m      5\u001b[0m \u001b[38;5;28;01mfrom\u001b[39;00m \u001b[38;5;21;01mProject\u001b[39;00m\u001b[38;5;21;01m.\u001b[39;00m\u001b[38;5;21;01mDeepUWSFM\u001b[39;00m\u001b[38;5;21;01m.\u001b[39;00m\u001b[38;5;21;01mutils\u001b[39;00m\u001b[38;5;21;01m.\u001b[39;00m\u001b[38;5;21;01mio\u001b[39;00m \u001b[38;5;28;01mimport\u001b[39;00m read_image\n\u001b[1;32m      6\u001b[0m \u001b[38;5;28;01mfrom\u001b[39;00m \u001b[38;5;21;01mProject\u001b[39;00m\u001b[38;5;21;01m.\u001b[39;00m\u001b[38;5;21;01mDeepUWSFM\u001b[39;00m \u001b[38;5;28;01mimport\u001b[39;00m (\n\u001b[1;32m      7\u001b[0m     feature_extractor, dense_matcher, feature_matcher, pairing, triangulation, reconstruction\n\u001b[1;32m      8\u001b[0m )\n",
      "\u001b[0;31mModuleNotFoundError\u001b[0m: No module named 'Project'"
     ]
    }
   ],
   "source": [
    "# For experiments in Colab (for gpu)\n",
    "!git clone --quiet --recursive https://github.com/ikotecha/18794-Project\n",
    "\n",
    "from Project.DeepUWSFM.utils import viz, viz_3d\n",
    "from Project.DeepUWSFM.utils.io import read_image\n",
    "from Project.DeepUWSFM import (\n",
    "    feature_extractor, dense_matcher, feature_matcher, pairing, triangulation, reconstruction\n",
    ")"
   ]
  },
  {
   "cell_type": "code",
   "execution_count": 30,
   "id": "Kjd0e3G0ECqx",
   "metadata": {
    "colab": {
     "base_uri": "https://localhost:8080/"
    },
    "id": "Kjd0e3G0ECqx",
    "outputId": "c61606d7-4c1f-40b6-e925-7086d436f42f"
   },
   "outputs": [],
   "source": [
    "import tqdm, tqdm.notebook\n",
    "tqdm.tqdm = tqdm.notebook.tqdm\n",
    "\n",
    "from DeepUWSFM.utils import viz, viz_3d\n",
    "from DeepUWSFM import (\n",
    "    feature_extractor, dense_matcher, feature_matcher, pairing, triangulation, reconstruction\n",
    ")"
   ]
  },
  {
   "cell_type": "code",
   "execution_count": null,
   "id": "q5E1wr3gEjEq",
   "metadata": {
    "id": "q5E1wr3gEjEq"
   },
   "outputs": [],
   "source": [
    "images = Path(\"images\")\n",
    "\n",
    "outputs = Path(\"outputs\")\n",
    "sfm_pairs = outputs / \"pairs.txt\"\n",
    "sfm_dir = outputs / \"sfm_superpoint+superglue\"\n",
    "sfm_dir = outputs / 'sfm'\n",
    "features = outputs / 'features.h5'\n",
    "matches = outputs / 'matches.h5'\n",
    "\n",
    "feature_conf = feature_extractor.configs[\"superpoint\"]\n",
    "dense_conf = dense_matcher.confs['loftr']\n",
    "matcher_conf = feature_matcher.confs[\"superglue\"]"
   ]
  },
  {
   "cell_type": "code",
   "execution_count": null,
   "id": "7qzbOSiHivoG",
   "metadata": {
    "colab": {
     "base_uri": "https://localhost:8080/",
     "height": 601
    },
    "id": "7qzbOSiHivoG",
    "outputId": "68c9dad1-f864-4fe7-c579-eddbd18e9e85"
   },
   "outputs": [],
   "source": [
    "references = [str(p.relative_to(images)) for p in (images).iterdir()]\n",
    "print(len(references), \"mapping images\")\n",
    "viz.plot_images([read_image(images / r) for r in references], dpi=25)\n",
    "\n",
    "feature_extractor.extract_features(feature_conf, images, img_list=references, feat_path=features)\n",
    "pairing.main(sfm_pairs, imgs=references)\n",
    "feature_matcher.match_from_paths(matcher_conf, sfm_pairs, feature_path_q=features, match_path=matches)\n",
    "\n",
    "features_loftr, matches_loftr = dense_matcher.main(dense_conf, sfm_pairs, images, export_dir=outputs)"
   ]
  },
  {
   "cell_type": "code",
   "execution_count": null,
   "id": "98f73fac",
   "metadata": {},
   "outputs": [],
   "source": [
    "reconstructions = pycolmap.incremental_mapping(str(matches_loftr), str(images), sfm_dir / \"models\")"
   ]
  },
  {
   "cell_type": "code",
   "execution_count": null,
   "id": "sOODMqKCFZhj",
   "metadata": {
    "colab": {
     "base_uri": "https://localhost:8080/"
    },
    "id": "sOODMqKCFZhj",
    "outputId": "596c6756-e514-4141-c563-cd4fbe1296ab"
   },
   "outputs": [],
   "source": [
    "import pycolmap\n",
    "\n",
    "def save_points3D_to_ply(reconstruction, output_file):\n",
    "    points3D = reconstruction.points3D\n",
    "    with open(output_file, \"w\") as f:\n",
    "        f.write(\"ply\\n\")\n",
    "        f.write(\"format ascii 1.0\\n\")\n",
    "        f.write(f\"element vertex {len(points3D)}\\n\")\n",
    "        f.write(\"property float x\\n\")\n",
    "        f.write(\"property float y\\n\")\n",
    "        f.write(\"property float z\\n\")\n",
    "        f.write(\"property uchar red\\n\")\n",
    "        f.write(\"property uchar green\\n\")\n",
    "        f.write(\"property uchar blue\\n\")\n",
    "        f.write(\"end_header\\n\")\n",
    "\n",
    "        for point_id, point in points3D.items():\n",
    "            x, y, z = point.xyz\n",
    "            r, g, b = point.color\n",
    "            f.write(f\"{x} {y} {z} {r} {g} {b}\\n\")\n",
    "\n",
    "    print(f\"Point cloud saved to {output_file}\")\n",
    "\n",
    "output_ply_file = images / \"points3D.ply\"\n",
    "save_points3D_to_ply(rec, output_ply_file)"
   ]
  }
 ],
 "metadata": {
  "accelerator": "GPU",
  "colab": {
   "gpuType": "T4",
   "provenance": []
  },
  "kernelspec": {
   "display_name": "18794",
   "language": "python",
   "name": "python3"
  },
  "language_info": {
   "codemirror_mode": {
    "name": "ipython",
    "version": 3
   },
   "file_extension": ".py",
   "mimetype": "text/x-python",
   "name": "python",
   "nbconvert_exporter": "python",
   "pygments_lexer": "ipython3",
   "version": "3.11.4"
  }
 },
 "nbformat": 4,
 "nbformat_minor": 5
}
