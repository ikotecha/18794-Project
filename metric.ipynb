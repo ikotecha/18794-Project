{
 "cells": [
  {
   "cell_type": "code",
   "execution_count": null,
   "id": "initial_id",
   "metadata": {
    "collapsed": true
   },
   "outputs": [],
   "source": [
    "import open3d as o3d\n",
    "import numpy as np\n",
    "import rasterio\n",
    "from scipy.spatial import cKDTree\n",
    "\n",
    "def load_point_cloud_from_tif(tif_path):\n",
    "    with rasterio.open(tif_path) as dataset:\n",
    "        elevation = dataset.read(1)\n",
    "        rows, cols = np.where(elevation != dataset.nodata)\n",
    "        x_coords = cols\n",
    "        y_coords = rows\n",
    "        z_coords = elevation[rows, cols]\n",
    "        points = np.vstack((x_coords, y_coords, z_coords)).T\n",
    "        return points\n",
    "\n",
    "def load_point_cloud_from_ply(ply_path):\n",
    "    pcd = o3d.io.read_point_cloud(ply_path)\n",
    "    points = np.asarray(pcd.points)\n",
    "    return points\n",
    "\n",
    "def normalize_point_cloud(points):\n",
    "    centroid = np.mean(points, axis=0)\n",
    "    points = points - centroid\n",
    "    scale = np.max(np.linalg.norm(points, axis=1))\n",
    "    points = points / scale\n",
    "    return points\n",
    "\n",
    "def compute_euclidean_distance(gt_points, pred_points):\n",
    "    tree = cKDTree(pred_points)\n",
    "    distances, _ = tree.query(gt_points, k=1)\n",
    "    return distances\n",
    "\n",
    "gt_points = load_point_cloud_from_tif(\"../archive/D1/D1/depth/depthT_S02951.tif\")\n",
    "pred_points = load_point_cloud_from_ply(\"../colmap_workspace/seathru/dense/0/fused.ply\")\n",
    "\n",
    "gt_points_normalized = normalize_point_cloud(gt_points)\n",
    "pred_points_normalized = normalize_point_cloud(pred_points)\n",
    "distances = compute_euclidean_distance(gt_points_normalized, pred_points_normalized)\n",
    "\n",
    "mean_distance = np.mean(distances)\n",
    "print(\"Mean Euclidean Distance:\", mean_distance)"
   ]
  }
 ],
 "metadata": {
  "kernelspec": {
   "display_name": "Python 3",
   "language": "python",
   "name": "python3"
  },
  "language_info": {
   "codemirror_mode": {
    "name": "ipython",
    "version": 2
   },
   "file_extension": ".py",
   "mimetype": "text/x-python",
   "name": "python",
   "nbconvert_exporter": "python",
   "pygments_lexer": "ipython2",
   "version": "2.7.6"
  }
 },
 "nbformat": 4,
 "nbformat_minor": 5
}
