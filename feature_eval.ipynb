{
 "cells": [
  {
   "cell_type": "code",
   "execution_count": 27,
   "metadata": {},
   "outputs": [
    {
     "ename": "FileExistsError",
     "evalue": "[Errno 17] File exists: 'outputs'",
     "output_type": "error",
     "traceback": [
      "\u001b[0;31m---------------------------------------------------------------------------\u001b[0m",
      "\u001b[0;31mFileExistsError\u001b[0m                           Traceback (most recent call last)",
      "Cell \u001b[0;32mIn[27], line 7\u001b[0m\n\u001b[1;32m      5\u001b[0m images \u001b[38;5;241m=\u001b[39m Path(\u001b[38;5;124m'\u001b[39m\u001b[38;5;124mimages\u001b[39m\u001b[38;5;124m'\u001b[39m)\n\u001b[1;32m      6\u001b[0m outputs \u001b[38;5;241m=\u001b[39m Path(\u001b[38;5;124m'\u001b[39m\u001b[38;5;124moutputs\u001b[39m\u001b[38;5;124m'\u001b[39m)\n\u001b[0;32m----> 7\u001b[0m \u001b[43moutputs\u001b[49m\u001b[38;5;241;43m.\u001b[39;49m\u001b[43mmkdir\u001b[49m\u001b[43m(\u001b[49m\u001b[43m)\u001b[49m\n\u001b[1;32m      8\u001b[0m sfm_pairs \u001b[38;5;241m=\u001b[39m outputs \u001b[38;5;241m/\u001b[39m \u001b[38;5;124m'\u001b[39m\u001b[38;5;124mpairs-sfm.txt\u001b[39m\u001b[38;5;124m'\u001b[39m\n\u001b[1;32m      9\u001b[0m loc_pairs \u001b[38;5;241m=\u001b[39m outputs \u001b[38;5;241m/\u001b[39m \u001b[38;5;124m'\u001b[39m\u001b[38;5;124mpairs-loc.txt\u001b[39m\u001b[38;5;124m'\u001b[39m\n",
      "File \u001b[0;32m/opt/homebrew/Cellar/python@3.11/3.11.4/Frameworks/Python.framework/Versions/3.11/lib/python3.11/pathlib.py:1116\u001b[0m, in \u001b[0;36mPath.mkdir\u001b[0;34m(self, mode, parents, exist_ok)\u001b[0m\n\u001b[1;32m   1112\u001b[0m \u001b[38;5;250m\u001b[39m\u001b[38;5;124;03m\"\"\"\u001b[39;00m\n\u001b[1;32m   1113\u001b[0m \u001b[38;5;124;03mCreate a new directory at this given path.\u001b[39;00m\n\u001b[1;32m   1114\u001b[0m \u001b[38;5;124;03m\"\"\"\u001b[39;00m\n\u001b[1;32m   1115\u001b[0m \u001b[38;5;28;01mtry\u001b[39;00m:\n\u001b[0;32m-> 1116\u001b[0m     \u001b[43mos\u001b[49m\u001b[38;5;241;43m.\u001b[39;49m\u001b[43mmkdir\u001b[49m\u001b[43m(\u001b[49m\u001b[38;5;28;43mself\u001b[39;49m\u001b[43m,\u001b[49m\u001b[43m \u001b[49m\u001b[43mmode\u001b[49m\u001b[43m)\u001b[49m\n\u001b[1;32m   1117\u001b[0m \u001b[38;5;28;01mexcept\u001b[39;00m \u001b[38;5;167;01mFileNotFoundError\u001b[39;00m:\n\u001b[1;32m   1118\u001b[0m     \u001b[38;5;28;01mif\u001b[39;00m \u001b[38;5;129;01mnot\u001b[39;00m parents \u001b[38;5;129;01mor\u001b[39;00m \u001b[38;5;28mself\u001b[39m\u001b[38;5;241m.\u001b[39mparent \u001b[38;5;241m==\u001b[39m \u001b[38;5;28mself\u001b[39m:\n",
      "\u001b[0;31mFileExistsError\u001b[0m: [Errno 17] File exists: 'outputs'"
     ]
    }
   ],
   "source": [
    "from pathlib import Path\n",
    "import pycolmap\n",
    "\n",
    "# Setup paths\n",
    "images = Path('images')\n",
    "outputs = Path('outputs')\n",
    "outputs.mkdir()\n",
    "sfm_pairs = outputs / 'pairs-sfm.txt'\n",
    "loc_pairs = outputs / 'pairs-loc.txt'\n",
    "\n",
    "# 1. SIFT + COLMAP pipeline\n",
    "def run_sift_colmap():\n",
    "    database_path = outputs / \"database.db\"\n",
    "\n",
    "    # Extract SIFT features and match\n",
    "    pycolmap.extract_features(database_path, images)\n",
    "    pycolmap.match_exhaustive(database_path)\n",
    "\n",
    "    # Run reconstruction\n",
    "    maps = pycolmap.incremental_mapping(database_path, images, outputs)\n",
    "    return maps[0]\n"
   ]
  },
  {
   "cell_type": "code",
   "execution_count": 1,
   "metadata": {},
   "outputs": [],
   "source": [
    "import numpy as np\n",
    "import pycolmap\n",
    "from PIL import Image, ImageOps\n",
    "import torch\n",
    "import time\n",
    "import matplotlib.pyplot as plt\n",
    "from scipy.spatial import cKDTree\n",
    "import cv2\n",
    "from superpoint_superglue_deployment import Matcher"
   ]
  },
  {
   "cell_type": "code",
   "execution_count": null,
   "metadata": {},
   "outputs": [],
   "source": [
    "def extract_sift_features(image_path):\n",
    "    img = Image.open(image_path).convert('RGB')\n",
    "    img = ImageOps.grayscale(img)\n",
    "    img = np.array(img).astype(np.float) / 255.\n",
    "\n",
    "    sift = pycolmap.Sift()\n",
    "    start_time = time.time()\n",
    "    keypoints, descriptors = sift.extract(img)\n",
    "    end_time = time.time()\n",
    "\n",
    "    return keypoints, descriptors, end_time - start_time\n",
    "\n",
    "def extract_superpoint_features(image_path):\n",
    "    start_time = time.time()\n",
    "    query_image = cv2.imread(\"images/1.png\", 0)\n",
    "    ref_image = cv2.imread(\"images/2.png\", 0)\n",
    "\n",
    "\n",
    "\n",
    "    superglue_matcher = Matcher(\n",
    "        {\n",
    "            \"superpoint\": {\n",
    "                \"input_shape\": (-1, -1),\n",
    "                \"keypoint_threshold\": 0.003,\n",
    "            },\n",
    "            \"superglue\": {\n",
    "                \"match_threshold\": 0.5,\n",
    "            },\n",
    "            \"use_gpu\": False,\n",
    "        }\n",
    "    )\n",
    "    query_kpts, ref_kpts, _, _, matches = superglue_matcher.match(query_image, ref_image)\n",
    "    end_time = time.time()\n",
    "\n",
    "    return query_kpts, ref_kpts, matches, end_time - start_time\n",
    "\n",
    "def compute_metrics_superglue(query_kpts, ref_kpts, matches):\n",
    "    valid_matches = [m for m in matches if m.queryIdx != -1]\n",
    "\n",
    "    # Extract matched keypoints using DMatch indices\n",
    "    matched_query_kpts = np.array([query_kpts[m.queryIdx] for m in valid_matches])\n",
    "    matched_ref_kpts = np.array([ref_kpts[m.trainIdx] for m in valid_matches])\n",
    "\n",
    "    metrics = {\n",
    "        'SuperPoint+SuperGlue': {\n",
    "            'num_keypoints': len(query_kpts),\n",
    "            'num_matches': len(valid_matches),\n",
    "            'matching_ratio': len(valid_matches) / len(query_kpts),\n",
    "            # 'spatial_distribution': compute_spatial_distribution(matched_query_kpts),\n",
    "            # 'mean_distance': compute_mean_distance(matched_query_kpts, matched_ref_kpts)\n",
    "        }\n",
    "    }\n",
    "    return metrics"
   ]
  },
  {
   "cell_type": "code",
   "execution_count": 26,
   "metadata": {},
   "outputs": [
    {
     "name": "stderr",
     "output_type": "stream",
     "text": [
      "/var/folders/qr/c_8vj3d52fl13hwpqb7419nc0000gn/T/ipykernel_33532/3747475331.py:13: DeprecationWarning: No SIFT extraction options specified. Setting them to peak_threshold=0.01, first_octave=0, max_image_size=7000 for backwards compatibility. If you want to keep the settings, explicitly specify them, because the defaults will change in the next major release.\n",
      "  sift = pycolmap.Sift()\n",
      "I20241212 15:12:01.953156 0x1f7d07ac0 sift.cc:727] Creating SIFT CPU feature extractor\n",
      "/Users/carterweaver/envs/18794/lib/python3.11/site-packages/superpoint_superglue_deployment/superpoint_handler.py:55: FutureWarning: You are using `torch.load` with `weights_only=False` (the current default value), which uses the default pickle module implicitly. It is possible to construct malicious pickle data which will execute arbitrary code during unpickling (See https://github.com/pytorch/pytorch/blob/main/SECURITY.md#untrusted-models for more details). In a future release, the default value for `weights_only` will be flipped to `True`. This limits the functions that could be executed during unpickling. Arbitrary objects will no longer be allowed to be loaded via this mode unless they are explicitly allowlisted by the user via `torch.serialization.add_safe_globals`. We recommend you start setting `weights_only=True` for any use case where you don't have full control of the loaded file. Please open an issue on GitHub for any issues related to this experimental feature.\n",
      "  torch.load(os.path.join(self.__CACHED_DIR, self.__MODEL_WEIGHTS_FILE_NAME))\n",
      "\u001b[32m2024-12-12 15:12:02.481\u001b[0m | \u001b[1mINFO    \u001b[0m | \u001b[36msuperpoint_superglue_deployment.superpoint_handler\u001b[0m:\u001b[36m__init__\u001b[0m:\u001b[36m58\u001b[0m - \u001b[1mloaded superpoint weights superpoint_v1.pth\u001b[0m\n",
      "/Users/carterweaver/envs/18794/lib/python3.11/site-packages/superpoint_superglue_deployment/superglue_handler.py:64: FutureWarning: You are using `torch.load` with `weights_only=False` (the current default value), which uses the default pickle module implicitly. It is possible to construct malicious pickle data which will execute arbitrary code during unpickling (See https://github.com/pytorch/pytorch/blob/main/SECURITY.md#untrusted-models for more details). In a future release, the default value for `weights_only` will be flipped to `True`. This limits the functions that could be executed during unpickling. Arbitrary objects will no longer be allowed to be loaded via this mode unless they are explicitly allowlisted by the user via `torch.serialization.add_safe_globals`. We recommend you start setting `weights_only=True` for any use case where you don't have full control of the loaded file. Please open an issue on GitHub for any issues related to this experimental feature.\n",
      "  torch.load(os.path.join(self.__CACHED_DIR, self.__MODEL_WEIGHTS_DICT[self._config[\"weights\"]][\"name\"]))\n",
      "\u001b[32m2024-12-12 15:12:02.540\u001b[0m | \u001b[1mINFO    \u001b[0m | \u001b[36msuperpoint_superglue_deployment.superglue_handler\u001b[0m:\u001b[36m__init__\u001b[0m:\u001b[36m67\u001b[0m - \u001b[1mloaded superglue weights superglue_outdoor.pth\u001b[0m\n"
     ]
    },
    {
     "name": "stdout",
     "output_type": "stream",
     "text": [
      "{'SIFT': {'num_keypoints': 1164, 'num_matches': np.int64(656), 'matching_ratio': np.float64(0.563573883161512)}}\n",
      "< cv2.DMatch 0x148c42870>\n",
      "{'SuperPoint+SuperGlue': {'num_keypoints': 952, 'num_matches': 647, 'matching_ratio': 0.6796218487394958}}\n"
     ]
    }
   ],
   "source": [
    "def evaluate_superpoint(image_path1, image_path2):\n",
    "  # Extract features from both images\n",
    "  query_kp1, ref_kp1, matches, time1 = extract_superpoint_features(image_path1)\n",
    "  print(matches[0])\n",
    "  # kp2, desc2, time2 = extract_superpoint_features(image_path2)\n",
    "  metrics = compute_metrics_superglue(query_kp1, ref_kp1, matches)\n",
    "  print(metrics)\n",
    "\n",
    "def compute_metrics_sift(query_image, ref_image):\n",
    "    query_image = cv2.imread(\"images/1.png\", 0)\n",
    "    ref_image = cv2.imread(\"images/2.png\", 0)\n",
    "\n",
    "    sift = pycolmap.Sift()\n",
    "    # Extract SIFT features\n",
    "\n",
    "    start_time = time.time()\n",
    "    q_kpts, q_desc = sift.extract(query_image)\n",
    "    r_kpts, r_desc = sift.extract(ref_image)\n",
    "\n",
    "    # Match SIFT features using nearest neighbor\n",
    "    tree = cKDTree(r_desc)\n",
    "    distances, indices = tree.query(q_desc, k=2)\n",
    "\n",
    "    # Lowe's ratio test\n",
    "    ratio_threshold = 0.8\n",
    "    valid_matches = distances[:, 0] < ratio_threshold * distances[:, 1]\n",
    "    matched_query_kpts = q_kpts[valid_matches]\n",
    "    matched_ref_kpts = r_kpts[indices[valid_matches, 0]]\n",
    "\n",
    "    metrics = {\n",
    "        'SIFT': {\n",
    "            'num_keypoints': len(q_kpts),\n",
    "            'num_matches': np.sum(valid_matches),\n",
    "            'matching_ratio': np.sum(valid_matches) / len(q_kpts),\n",
    "            # 'mean_distance': compute_mean_distance(matched_query_kpts, matched_ref_kpts)\n",
    "        }\n",
    "    }\n",
    "    print(metrics)\n",
    "    return metrics\n",
    "\n",
    "\n",
    "compute_metrics_sift('images/1.png', 'images/2.png')\n",
    "evaluate_superpoint('images/1.jpg', 'images/2.jpg')"
   ]
  }
 ],
 "metadata": {
  "kernelspec": {
   "display_name": "18794",
   "language": "python",
   "name": "python3"
  },
  "language_info": {
   "codemirror_mode": {
    "name": "ipython",
    "version": 3
   },
   "file_extension": ".py",
   "mimetype": "text/x-python",
   "name": "python",
   "nbconvert_exporter": "python",
   "pygments_lexer": "ipython3",
   "version": "3.11.4"
  }
 },
 "nbformat": 4,
 "nbformat_minor": 2
}
